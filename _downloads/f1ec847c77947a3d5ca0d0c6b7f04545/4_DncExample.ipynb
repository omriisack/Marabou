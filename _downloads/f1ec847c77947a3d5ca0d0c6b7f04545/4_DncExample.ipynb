{
  "nbformat": 4,
  "metadata": {
    "kernelspec": {
      "name": "python3",
      "display_name": "Python 3",
      "language": "python"
    },
    "language_info": {
      "name": "python",
      "pygments_lexer": "ipython3",
      "version": "3.5.2",
      "nbconvert_exporter": "python",
      "codemirror_mode": {
        "name": "ipython",
        "version": 3
      },
      "mimetype": "text/x-python",
      "file_extension": ".py"
    }
  },
  "cells": [
    {
      "metadata": {
        "collapsed": false
      },
      "source": [
        "%matplotlib inline"
      ],
      "execution_count": null,
      "cell_type": "code",
      "outputs": []
    },
    {
      "metadata": {},
      "source": [
        "\nDNC Example\n====================\n\nTop contributors (to current version):\n  - Andrew Wu\n  - Kyle Julian\n  \nThis file is part of the Marabou project.\nCopyright (c) 2017-2019 by the authors listed in the file AUTHORS\nin the top-level source directory) and their institutional affiliations.\nAll rights reserved. See the file COPYING in the top-level source\ndirectory for licensing information.\n\n"
      ],
      "cell_type": "markdown"
    },
    {
      "metadata": {
        "collapsed": false
      },
      "source": [
        "import sys\nimport numpy as np\n\n# Append to path if needed\n#sys.path.append(</Path/To/Marabou/>)\n\nfrom maraboupy import Marabou"
      ],
      "execution_count": null,
      "cell_type": "code",
      "outputs": []
    },
    {
      "metadata": {},
      "source": [
        "Load an example network and place an output constraint\n\n"
      ],
      "cell_type": "markdown"
    },
    {
      "metadata": {
        "collapsed": false
      },
      "source": [
        "nnet_file_name = \"../../src/input_parsers/acas_example/ACASXU_run2a_1_1_tiny_2.nnet\"\nnet = Marabou.read_nnet(nnet_file_name)\nnet.setLowerBound(net.outputVars[0][0], .5)"
      ],
      "execution_count": null,
      "cell_type": "code",
      "outputs": []
    },
    {
      "metadata": {},
      "source": [
        "Solve the query with DNC mode turned on, which should return satisfying variable values\n\n"
      ],
      "cell_type": "markdown"
    },
    {
      "metadata": {
        "collapsed": false
      },
      "source": [
        "options = Marabou.createOptions(snc=True, verbosity=0, initialDivides=2);\nvals, stats = net.solve(options=options)\nassert len(vals) > 0"
      ],
      "execution_count": null,
      "cell_type": "code",
      "outputs": []
    }
  ],
  "nbformat_minor": 0
}