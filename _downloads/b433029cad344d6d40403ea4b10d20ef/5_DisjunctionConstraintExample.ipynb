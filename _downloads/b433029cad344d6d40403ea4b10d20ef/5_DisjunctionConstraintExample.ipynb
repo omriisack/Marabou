{
  "nbformat": 4,
  "metadata": {
    "kernelspec": {
      "name": "python3",
      "display_name": "Python 3",
      "language": "python"
    },
    "language_info": {
      "name": "python",
      "pygments_lexer": "ipython3",
      "version": "3.5.2",
      "nbconvert_exporter": "python",
      "codemirror_mode": {
        "name": "ipython",
        "version": 3
      },
      "mimetype": "text/x-python",
      "file_extension": ".py"
    }
  },
  "cells": [
    {
      "metadata": {
        "collapsed": false
      },
      "source": [
        "%matplotlib inline"
      ],
      "execution_count": null,
      "cell_type": "code",
      "outputs": []
    },
    {
      "metadata": {},
      "source": [
        "\nDisjunction Constraint Example\n====================\n\nTop contributors (to current version):\n  - Haoze Andrew Wu\n\nThis file is part of the Marabou project.\nCopyright (c) 2017-2019 by the authors listed in the file AUTHORS\nin the top-level source directory) and their institutional affiliations.\nAll rights reserved. See the file COPYING in the top-level source\ndirectory for licensing information.\n\n"
      ],
      "cell_type": "markdown"
    },
    {
      "metadata": {
        "collapsed": false
      },
      "source": [
        "import sys\nimport numpy as np\n\n## %\n# Path to Marabou folder if you did not export it\n\n# sys.path.append('/home/USER/git/Marabou')\nfrom maraboupy import Marabou\nfrom maraboupy import MarabouCore"
      ],
      "execution_count": null,
      "cell_type": "code",
      "outputs": []
    },
    {
      "metadata": {},
      "source": [
        "Path to NNet file\n\n"
      ],
      "cell_type": "markdown"
    },
    {
      "metadata": {
        "collapsed": false
      },
      "source": [
        "nnetFile = \"./resources/nnet/mnist/mnist10x10.nnet\""
      ],
      "execution_count": null,
      "cell_type": "code",
      "outputs": []
    },
    {
      "metadata": {},
      "source": [
        "Load the network from NNet file, and set a lower bound on first output variable\n\n"
      ],
      "cell_type": "markdown"
    },
    {
      "metadata": {
        "collapsed": false
      },
      "source": [
        "net1 = Marabou.read_nnet(nnetFile)"
      ],
      "execution_count": null,
      "cell_type": "code",
      "outputs": []
    },
    {
      "metadata": {},
      "source": [
        "Require that a input variable is either 0 or 1\n\n"
      ],
      "cell_type": "markdown"
    },
    {
      "metadata": {
        "collapsed": false
      },
      "source": [
        "for var in net1.inputVars[0]:\n    # eq1: 1 * var = 0\n    eq1 = MarabouCore.Equation(MarabouCore.Equation.EQ);\n    eq1.addAddend(1, var);\n    eq1.setScalar(0);\n\n    # eq2: 1 * var = 1\n    eq2 = MarabouCore.Equation(MarabouCore.Equation.EQ);\n    eq2.addAddend(1, var);\n    eq2.setScalar(1);\n\n    # ( var = 0) \\/ (var = 1)\n    disjunction = [[eq1], [eq2]]\n    net1.addDisjunctionConstraint(disjunction)\n\n    # add additional bounds for the variable\n    net1.setLowerBound(var, 0)\n    net1.setUpperBound(var, 1)"
      ],
      "execution_count": null,
      "cell_type": "code",
      "outputs": []
    },
    {
      "metadata": {},
      "source": [
        "Solve Marabou query\n\n"
      ],
      "cell_type": "markdown"
    },
    {
      "metadata": {
        "collapsed": false
      },
      "source": [
        "vals1, stats1 = net1.solve()"
      ],
      "execution_count": null,
      "cell_type": "code",
      "outputs": []
    },
    {
      "metadata": {},
      "source": [
        "Example statistics\n\n"
      ],
      "cell_type": "markdown"
    },
    {
      "metadata": {
        "collapsed": false
      },
      "source": [
        "stats1.getNumSplits()\nstats1.getTotalTime()"
      ],
      "execution_count": null,
      "cell_type": "code",
      "outputs": []
    },
    {
      "metadata": {},
      "source": [
        "Eval example\n\nTest that the satisfying assignment found is a real one.\n\n"
      ],
      "cell_type": "markdown"
    },
    {
      "metadata": {
        "collapsed": false
      },
      "source": [
        "for i in range(784):\n    assert(abs(vals1[i] - 1) < 0.0000001 or abs(vals1[i]) < 0.0000001)"
      ],
      "execution_count": null,
      "cell_type": "code",
      "outputs": []
    }
  ],
  "nbformat_minor": 0
}